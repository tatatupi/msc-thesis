{
 "cells": [
  {
   "cell_type": "code",
   "execution_count": 68,
   "metadata": {},
   "outputs": [
    {
     "name": "stderr",
     "output_type": "stream",
     "text": [
      "/home/taiguara/.local/lib/python3.6/site-packages/ipykernel_launcher.py:16: MatplotlibDeprecationWarning: scipy.stats.norm.pdf\n",
      "  app.launch_new_instance()\n",
      "/home/taiguara/.local/lib/python3.6/site-packages/ipykernel_launcher.py:17: MatplotlibDeprecationWarning: scipy.stats.norm.pdf\n",
      "/home/taiguara/.local/lib/python3.6/site-packages/ipykernel_launcher.py:18: MatplotlibDeprecationWarning: scipy.stats.norm.pdf\n"
     ]
    },
    {
     "data": {
      "image/png": "[encoded data removed]",
      "text/plain": [
       "<Figure size 432x288 with 1 Axes>"
      ]
     },
     "metadata": {
      "needs_background": "light"
     },
     "output_type": "display_data"
    },
    {
     "data": {
      "image/png": "[encoded data removed]",
      "text/plain": [
       "<Figure size 432x288 with 1 Axes>"
      ]
     },
     "metadata": {
      "needs_background": "light"
     },
     "output_type": "display_data"
    }
   ],
   "source": [
    "import matplotlib.pyplot as plt\n",
    "import numpy as np\n",
    "import matplotlib.mlab as mlab\n",
    "import math\n",
    "\n",
    "mu = 0\n",
    "n1 = 1\n",
    "n2 = math.sqrt(3)\n",
    "n3 = math.sqrt(10)\n",
    "\n",
    "variance1 = 1\n",
    "sigma = math.sqrt(variance)\n",
    "\n",
    "x = np.linspace(mu - 3*sigma, mu + 3*sigma, 100)\n",
    "\n",
    "plt.plot(x,mlab.normpdf(x, mu, sigma), color = 'blue')\n",
    "plt.plot(x,mlab.normpdf(x, mu, sigma/n2), color = 'green')\n",
    "plt.plot(x,mlab.normpdf(x, mu, sigma/n3), color = 'red')\n",
    "\n",
    "plt.annotate('n = 10',\n",
    "            xy=(0, 1.255), xycoords='data', color='red',\n",
    "            xytext=(-60, 10), textcoords='offset points',\n",
    "            arrowprops=dict(facecolor='green',arrowstyle=\"->\"))\n",
    "\n",
    "plt.annotate('n = 3',\n",
    "            xy=(0, 0.69), xycoords='data', color='green',\n",
    "            xytext=(50, 20), textcoords='offset points',\n",
    "            arrowprops=dict(facecolor='orange',arrowstyle=\"->\"))\n",
    "\n",
    "plt.annotate('n = 1',\n",
    "            xy=(0, 0.39876), xycoords='data', color='blue',\n",
    "            xytext=(-75, 10), textcoords='offset points',\n",
    "            arrowprops=dict(facecolor='blue',arrowstyle=\"->\"))\n",
    "f = plt.figure()\n",
    "plt.axis((-3,3,0,1.5))\n",
    "plt.xlabel(r'$\\mu$')\n",
    "plt.ylabel(r'$N(\\mu,\\sigma/ \\sqrt{n})$')\n",
    "frame1 = plt.gca()\n",
    "frame1.axes.get_xaxis().set_ticks([])\n",
    "plt.show()\n",
    "f.savefig('a.pdf')"
   ]
  },
  {
   "cell_type": "code",
   "execution_count": 20,
   "metadata": {},
   "outputs": [
    {
     "name": "stderr",
     "output_type": "stream",
     "text": [
      "/home/taiguara/.local/lib/python3.6/site-packages/ipykernel_launcher.py:1: MatplotlibDeprecationWarning: scipy.stats.norm.pdf\n",
      "  \"\"\"Entry point for launching an IPython kernel.\n"
     ]
    },
    {
     "data": {
      "text/plain": [
       "0.3987591533537418"
      ]
     },
     "execution_count": 20,
     "metadata": {},
     "output_type": "execute_result"
    }
   ],
   "source": [
    "np.max(mlab.normpdf(x, mu, sigma))"
   ]
  },
  {
   "cell_type": "code",
   "execution_count": 21,
   "metadata": {},
   "outputs": [
    {
     "name": "stderr",
     "output_type": "stream",
     "text": [
      "/home/taiguara/.local/lib/python3.6/site-packages/ipykernel_launcher.py:1: MatplotlibDeprecationWarning: scipy.stats.norm.pdf\n",
      "  \"\"\"Entry point for launching an IPython kernel.\n"
     ]
    },
    {
     "data": {
      "text/plain": [
       "0.6900371796174553"
      ]
     },
     "execution_count": 21,
     "metadata": {},
     "output_type": "execute_result"
    }
   ],
   "source": [
    "np.max(mlab.normpdf(x, mu, sigma/n2))"
   ]
  },
  {
   "cell_type": "code",
   "execution_count": 22,
   "metadata": {},
   "outputs": [
    {
     "name": "stderr",
     "output_type": "stream",
     "text": [
      "/home/taiguara/.local/lib/python3.6/site-packages/ipykernel_launcher.py:1: MatplotlibDeprecationWarning: scipy.stats.norm.pdf\n",
      "  \"\"\"Entry point for launching an IPython kernel.\n"
     ]
    },
    {
     "data": {
      "text/plain": [
       "1.255787222760562"
      ]
     },
     "execution_count": 22,
     "metadata": {},
     "output_type": "execute_result"
    }
   ],
   "source": [
    "np.max(mlab.normpdf(x, mu, sigma/n3))"
   ]
  }
 ],
 "metadata": {
  "kernelspec": {
   "display_name": "Python 3",
   "language": "python",
   "name": "python3"
  },
  "language_info": {
   "codemirror_mode": {
    "name": "ipython",
    "version": 3
   },
   "file_extension": ".py",
   "mimetype": "text/x-python",
   "name": "python",
   "nbconvert_exporter": "python",
   "pygments_lexer": "ipython3",
   "version": "3.6.7"
  }
 },
 "nbformat": 4,
 "nbformat_minor": 2
}
