{
 "cells": [
  {
   "cell_type": "code",
   "execution_count": 1,
   "metadata": {},
   "outputs": [
    {
     "ename": "ModuleNotFoundError",
     "evalue": "No module named 'matplotlib'",
     "output_type": "error",
     "traceback": [
      "\u001b[1;31m---------------------------------------------------------------------------\u001b[0m",
      "\u001b[1;31mModuleNotFoundError\u001b[0m                       Traceback (most recent call last)",
      "\u001b[1;32m<ipython-input-1-80fc72ff83a7>\u001b[0m in \u001b[0;36m<module>\u001b[1;34m\u001b[0m\n\u001b[1;32m----> 1\u001b[1;33m \u001b[1;32mimport\u001b[0m \u001b[0mmatplotlib\u001b[0m\u001b[1;33m.\u001b[0m\u001b[0mpyplot\u001b[0m \u001b[1;32mas\u001b[0m \u001b[0mplt\u001b[0m\u001b[1;33m\u001b[0m\u001b[0m\n\u001b[0m\u001b[0;32m      2\u001b[0m \u001b[1;32mimport\u001b[0m \u001b[0mnumpy\u001b[0m \u001b[1;32mas\u001b[0m \u001b[0mnp\u001b[0m\u001b[1;33m\u001b[0m\u001b[0m\n\u001b[0;32m      3\u001b[0m \u001b[1;32mimport\u001b[0m \u001b[0mmatplotlib\u001b[0m\u001b[1;33m.\u001b[0m\u001b[0mmlab\u001b[0m \u001b[1;32mas\u001b[0m \u001b[0mmlab\u001b[0m\u001b[1;33m\u001b[0m\u001b[0m\n\u001b[0;32m      4\u001b[0m \u001b[1;32mimport\u001b[0m \u001b[0mmath\u001b[0m\u001b[1;33m\u001b[0m\u001b[0m\n\u001b[0;32m      5\u001b[0m \u001b[1;33m\u001b[0m\u001b[0m\n",
      "\u001b[1;31mModuleNotFoundError\u001b[0m: No module named 'matplotlib'"
     ]
    }
   ],
   "source": [
    "import matplotlib.pyplot as plt\n",
    "import numpy as np\n",
    "import matplotlib.mlab as mlab\n",
    "import math\n",
    "\n",
    "mu = 0\n",
    "n1 = 1\n",
    "n2 = math.sqrt(3)\n",
    "n3 = math.sqrt(10)\n",
    "\n",
    "variance = 1\n",
    "\n",
    "sigma = math.sqrt(variance)\n",
    "\n",
    "x = np.linspace(mu - 3*sigma, mu + 3*sigma, 100)\n",
    "\n",
    "f = plt.figure()\n",
    "plt.plot(x,mlab.normpdf(x, mu, sigma), color = 'blue')\n",
    "plt.plot(x,mlab.normpdf(x, mu, sigma/n2), color = 'green')\n",
    "plt.plot(x,mlab.normpdf(x, mu, sigma/n3), color = 'red')\n",
    "\n",
    "plt.annotate('n = 10',\n",
    "            xy=(0, 1.255), xycoords='data', color='red',\n",
    "            xytext=(-60, 10), textcoords='offset points',\n",
    "            arrowprops=dict(facecolor='green',arrowstyle=\"->\"))\n",
    "\n",
    "plt.annotate('n = 3',\n",
    "            xy=(0, 0.69), xycoords='data', color='green',\n",
    "            xytext=(50, 20), textcoords='offset points',\n",
    "            arrowprops=dict(facecolor='orange',arrowstyle=\"->\"))\n",
    "\n",
    "plt.annotate('n = 1',\n",
    "            xy=(0, 0.39876), xycoords='data', color='blue',\n",
    "            xytext=(-75, 10), textcoords='offset points',\n",
    "            arrowprops=dict(facecolor='blue',arrowstyle=\"->\"))\n",
    "plt.axis((-3,3,0,1.5))\n",
    "plt.xlabel(r'$\\mu$')\n",
    "plt.ylabel(r'$N(\\mu,\\sigma/ \\sqrt{n})$')\n",
    "frame1 = plt.gca()\n",
    "frame1.axes.get_xaxis().set_ticks([])\n",
    "plt.show()\n",
    "# f.savefig('fusion_accuracy.pdf')"
   ]
  },
  {
   "cell_type": "code",
   "execution_count": null,
   "metadata": {},
   "outputs": [],
   "source": []
  }
 ],
 "metadata": {
  "kernelspec": {
   "display_name": "Python 3",
   "language": "python",
   "name": "python3"
  },
  "language_info": {
   "codemirror_mode": {
    "name": "ipython",
    "version": 3
   },
   "file_extension": ".py",
   "mimetype": "text/x-python",
   "name": "python",
   "nbconvert_exporter": "python",
   "pygments_lexer": "ipython3",
   "version": "3.7.0"
  }
 },
 "nbformat": 4,
 "nbformat_minor": 2
}
